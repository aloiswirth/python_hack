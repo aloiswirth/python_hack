{
 "cells": [
  {
   "cell_type": "code",
   "execution_count": 3,
   "metadata": {},
   "outputs": [],
   "source": [
    "# create a greeting\n",
    "# create a word list\n",
    "# randomly choose a word from the list\n",
    "# ask the user to guess a letter\n",
    "# bonus: make the program take the input from the user and make it lowercase\n",
    "# check if the letter is in the word \n"
   ]
  },
  {
   "cell_type": "code",
   "execution_count": 1,
   "metadata": {},
   "outputs": [
    {
     "name": "stdout",
     "output_type": "stream",
     "text": [
      "Welcome to Hangman!\n",
      "_ _ _ _ _ _ _ _ _ "
     ]
    }
   ],
   "source": [
    "from time import sleep\n",
    "from builtins import enumerate\n",
    "import random\n",
    "\n",
    "print(\"Welcome to Hangman!\")\n",
    "word_list = [\"apple\", \"banana\", \"cherry\", \"durian\", \"eggplant\", \"fig\", \"grape\", \"honeydew\", \"jackfruit\", \"kiwi\", \"lemon\", \"mango\", \"nectarine\", \"orange\", \"pear\", \"quince\", \"raspberry\", \"strawberry\", \"tangerine\", \"watermelon\"]\n",
    "word = random.choice(word_list)\n",
    "\n",
    "# now loop through the word and write a _ for each letter\n",
    "for letter in word:\n",
    "    print(\"_\", end=\" \")\n",
    "sleep(2)\n",
    "current_word = [\"_\" for letter in word]\n",
    "while current_word != word:\n",
    "    guess = input(\"Guess a letter: \").lower()\n",
    "\n",
    "    for number, letter in enumerate(word):\n",
    "        if guess == letter:\n",
    "            print(guess, end=\" \")\n",
    "            current_word[number] = guess\n",
    "        else:\n",
    "            print(current_word[number], end=\" \")\n",
    "    sleep(2)\n",
    "    print()\n",
    "            \n",
    "    "
   ]
  },
  {
   "cell_type": "code",
   "execution_count": null,
   "metadata": {},
   "outputs": [],
   "source": []
  }
 ],
 "metadata": {
  "kernelspec": {
   "display_name": ".venv",
   "language": "python",
   "name": "python3"
  },
  "language_info": {
   "codemirror_mode": {
    "name": "ipython",
    "version": 3
   },
   "file_extension": ".py",
   "mimetype": "text/x-python",
   "name": "python",
   "nbconvert_exporter": "python",
   "pygments_lexer": "ipython3",
   "version": "3.12.0"
  }
 },
 "nbformat": 4,
 "nbformat_minor": 2
}
